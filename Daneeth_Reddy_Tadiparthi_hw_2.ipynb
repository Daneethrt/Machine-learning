{
  "nbformat": 4,
  "nbformat_minor": 0,
  "metadata": {
    "colab": {
      "name": "Daneeth Reddy Tadiparthi_hw-2.ipynb",
      "provenance": [],
      "collapsed_sections": []
    },
    "kernelspec": {
      "name": "python3",
      "display_name": "Python 3"
    },
    "language_info": {
      "name": "python"
    }
  },
  "cells": [
    {
      "cell_type": "markdown",
      "metadata": {
        "id": "0PPmXK0NPB16"
      },
      "source": [
        "# Homework 2\n",
        "## Homework guideline\n",
        "- The deadline is Oct 27th 10:30am. Submission after the deadline will not be graded. \n",
        "\n",
        "- Submit your work(your reasoning and your code) as a SINGLE .ipynb document. Please rename the document as _HW1_YOURNAME.ipynb_ (for example, _HW1_FELIX.ipynb_). You are responsible for checking that you have correctly submitted the correct document. If your code cannot run, you may receive NO point. \n",
        "\n",
        "- Please justify all short answers with a brief explanation.\n",
        "\n",
        "- You only use the Python packages included in the following cell. You are not allowed to use other advanced package or modules unless you are permitted to. \n",
        "\n",
        "- In your final submission include the plots produced by the unedited code as presented below, as well as any additional plots produced after editing the code during the course of a problem. You may find it necessary to copy/paste relevant code into additional cells to accomplish this.\n",
        "\n",
        "- Feel free to use the lecture notes and other resources but work on your own!"
      ]
    },
    {
      "cell_type": "code",
      "metadata": {
        "colab": {
          "base_uri": "https://localhost:8080/"
        },
        "id": "tZDH51c-2EU1",
        "outputId": "0376bf64-54e6-4e43-caee-5c3d0276b49c"
      },
      "source": [
        "%pylab inline \n"
      ],
      "execution_count": 36,
      "outputs": [
        {
          "output_type": "stream",
          "name": "stdout",
          "text": [
            "Populating the interactive namespace from numpy and matplotlib\n"
          ]
        }
      ]
    },
    {
      "cell_type": "markdown",
      "metadata": {
        "id": "rtKWusbFzQIk"
      },
      "source": [
        "# Modified MNIST\n",
        "I modified the the original MNIST gray-scale image dataset, where samples of digit 9 belong to class 1, and otherwise class 0. Now it becomes binary logistic regression. \n",
        "It contains a training set of images $\\texttt{Xtr}$ with labels $\\texttt{Ytr}$ and a testing set\n",
        "of images $\\texttt{Xte}$ with labels $\\texttt{Yte}$. There are 6000 samples in training sets and 1000 samples in testing sets."
      ]
    },
    {
      "cell_type": "code",
      "metadata": {
        "colab": {
          "base_uri": "https://localhost:8080/"
        },
        "id": "egCp1Xyi2A60",
        "outputId": "c0f0a4e9-e668-4fe9-93ae-a16612e0478e"
      },
      "source": [
        "from keras.datasets import mnist\n",
        "(train_X, train_y), (test_X, test_y) = mnist.load_data()\n",
        "Xtr                   = train_X[0:6000, :]\n",
        "train_y_part          = train_y[0:6000]\n",
        "Ytr                   = zeros(train_y_part.size)\n",
        "Ytr[train_y_part==9]=1\n",
        "\n",
        "Xte                   = test_X[0:1000,:]\n",
        "test_y_part           = test_y[0:1000]\n",
        "Yte  = zeros(test_y_part.size)\n",
        "Yte[test_y_part==9]=1\n",
        "\n",
        "print('Xtr: ' + str(Xtr.shape))\n",
        "print('Ytr: ' + str(Ytr.shape))\n",
        "print('Xte: '  + str(Xte.shape))\n",
        "print('Yte: '  + str(Yte.shape))\n",
        "\n"
      ],
      "execution_count": 37,
      "outputs": [
        {
          "output_type": "stream",
          "name": "stdout",
          "text": [
            "Xtr: (6000, 28, 28)\n",
            "Ytr: (6000,)\n",
            "Xte: (1000, 28, 28)\n",
            "Yte: (1000,)\n"
          ]
        }
      ]
    },
    {
      "cell_type": "code",
      "metadata": {
        "colab": {
          "base_uri": "https://localhost:8080/",
          "height": 593
        },
        "id": "mTnDjIzx3R24",
        "outputId": "8673244d-bacc-4d2b-dbbd-eba1ff57f042"
      },
      "source": [
        "fig, axs = plt.subplots(3, 3,figsize=(10,10))\n",
        "axs = axs.ravel()\n",
        "index = where(Ytr>0)[0]\n",
        "for i in range(9):\n",
        "    axs[i].imshow(Xtr[index[i]], cmap=pyplot.get_cmap('gray'))"
      ],
      "execution_count": 38,
      "outputs": [
        {
          "output_type": "display_data",
          "data": {
            "image/png": "[encoded data removed]",
            "text/plain": [
              "<Figure size 720x720 with 9 Axes>"
            ]
          },
          "metadata": {
            "needs_background": "light"
          }
        }
      ]
    },
    {
      "cell_type": "markdown",
      "metadata": {
        "id": "_f5Jvc-04O05"
      },
      "source": [
        "## Q1: Logistic regression (20pt)\n",
        "\n",
        "---\n",
        "\n",
        "\n",
        "### 1. Data preparation for training and testing (5pt)\n",
        "Prepare your matrix $\\mathbf{X}$ and your output label $\\mathbf{y}$ for the training data. Please count the number of 9 out of these 60000 training set. What is the dimension of the matrix $\\mathbf{X}$. Don't forget to do the same preparation for the testing data. "
      ]
    },
    {
      "cell_type": "code",
      "metadata": {
        "id": "zfPxewPNPaxI",
        "colab": {
          "base_uri": "https://localhost:8080/"
        },
        "outputId": "a18552fa-1c3e-4199-e556-39263d28b0cf"
      },
      "source": [
        " #@title Q1.1 your code starts here\n",
        "import numpy as np\n",
        "\n",
        "Xtr =  hstack([ones((train_X.shape[0],1)), train_X.reshape(60000, 28*28)])\n",
        "#Rechaning the shape of the matrix to (60000,785)\n",
        "\n",
        "train_y_part          = train_y\n",
        "Ytr                   = zeros(train_y_part.size)\n",
        "Ytr[train_y_part==9]=1 # Making all the 9 numbers as '1' in the data set.\n",
        "\n",
        "# Chaning the data set from (1000,28,28) to (10000,28,28)\n",
        "Xte                   = test_X \n",
        "test_y_part           = test_y\n",
        "Yte  = zeros(test_y_part.size)\n",
        "# Chaning the data set from (1000,) to (10000,)\n",
        "Yte[test_y_part==9]=1\n",
        "\n",
        "print('Xtr: ' + str(Xtr.shape))\n",
        "print('Ytr: ' + str(Ytr.shape))\n",
        "print('Xte: '  + str(Xte.shape))\n",
        "print('Yte: '  + str(Yte.shape))\n",
        "#The code below is to count the number of '9' digits persent in 60000 traning set.\n",
        " count = 0\n",
        " for i in Ytr:\n",
        "   count+=i\n",
        " print(count)"
      ],
      "execution_count": 39,
      "outputs": [
        {
          "output_type": "stream",
          "name": "stdout",
          "text": [
            "Xtr: (60000, 785)\n",
            "Ytr: (60000,)\n",
            "Xte: (10000, 28, 28)\n",
            "Yte: (10000,)\n",
            "5949.0\n"
          ]
        }
      ]
    },
    {
      "cell_type": "markdown",
      "metadata": {
        "id": "ERvvzBXc5khg"
      },
      "source": [
        "### **Your Answer:**"
      ]
    },
    {
      "cell_type": "markdown",
      "metadata": {
        "id": "joKAPaOEnOu-"
      },
      "source": [
        "\n",
        "---\n",
        "### 2. Logistic regression (15pt)\n",
        "\n",
        "Perform logistic regression with the sigmoid activation function using **mini-batches descent method**. The mini-batch size is 25, the learning rate is $\\eta_t = \\frac{1}{(1+2t)^3}$ and total iteration number is $50$. You might need to restart the training with better initial conditions. Modify my code to accomodate it. \n",
        "\n",
        "Please use the testing set to validate the logistic regression model. What is the test error rate?  Could you plot serveral pictures that logistic regression model misclassified the digit 9. \n"
      ]
    },
    {
      "cell_type": "code",
      "metadata": {
        "id": "rqnurYHKpfEO",
        "colab": {
          "base_uri": "https://localhost:8080/"
        },
        "outputId": "722de250-16a9-4ec8-e000-d753326a1512"
      },
      "source": [
        " #@title Q1.2 your code starts here\n",
        "# Sigmiod activation Function \n",
        "def predict(x, w):\n",
        "\tz = w.dot(x)\n",
        "\n",
        "\treturn 1.0 / (1.0 + exp(-z))\n",
        " \n",
        "# Mini-batches descent method.\n",
        "def train_weights(X, y, l_rate_span, n_iter, threshold=0.002):\n",
        "  n, m    = X.shape\n",
        "  weights = zeros(m) # Initial condition is always 0 vector. it is a bad idea! \n",
        "  # you should modify this code to make IC as an input. Then you can call this call function put the last weight as the new initial condition.\n",
        "  for iter in range(n_iter):\n",
        "    l_rate   = l_rate_span[iter]\n",
        "    sum_error = 0;\n",
        "    arr = np.arange(n)\n",
        "    random.shuffle(arr)\n",
        "# Taking mini-batch size is 25.\n",
        "    for i in arr[0:25]:\n",
        "      prediction = predict(X[i,:], weights)\n",
        "      error      = prediction - y[i]\n",
        "      sum_error  = error**2 + sum_error\n",
        "      weights    = weights - l_rate * error * X[i,:]\n",
        "    print('sum_error at ',iter+1, 'iteration is ', sum_error) # Prints the values of 50 iteration.\n",
        "    if sum_error<threshold:\n",
        "      break\n",
        "\n",
        "\n",
        "  return weights\n",
        "\n",
        "#Using the '50' Iteration.\n",
        "n_iter = 50\n",
        "n_span = arange(n_iter)\n",
        "l_rate_span = 1/((1+2 * n_span)**3) # Learning rate is ηt=1/(1+2t)3\n",
        "#print(l_rate_span)\n",
        "weights = train_weights(Xtr, Ytr, l_rate_span, n_iter) #you should restart with the new IC. \n",
        "#print(weights)\n",
        "\n",
        "#Sum error stops when ever we get '0'.\n",
        "\n"
      ],
      "execution_count": 40,
      "outputs": [
        {
          "output_type": "stream",
          "name": "stdout",
          "text": [
            "sum_error at  1 iteration is  5.25\n",
            "sum_error at  2 iteration is  6.0\n",
            "sum_error at  3 iteration is  11.0\n",
            "sum_error at  4 iteration is  6.0\n",
            "sum_error at  5 iteration is  10.0\n",
            "sum_error at  6 iteration is  15.0\n",
            "sum_error at  7 iteration is  4.0\n",
            "sum_error at  8 iteration is  7.0\n",
            "sum_error at  9 iteration is  8.0\n",
            "sum_error at  10 iteration is  8.0\n",
            "sum_error at  11 iteration is  8.0\n",
            "sum_error at  12 iteration is  7.0\n",
            "sum_error at  13 iteration is  9.0\n",
            "sum_error at  14 iteration is  7.0\n",
            "sum_error at  15 iteration is  9.0\n",
            "sum_error at  16 iteration is  10.0\n",
            "sum_error at  17 iteration is  10.0\n",
            "sum_error at  18 iteration is  10.0\n",
            "sum_error at  19 iteration is  9.0\n",
            "sum_error at  20 iteration is  10.0\n",
            "sum_error at  21 iteration is  7.0\n",
            "sum_error at  22 iteration is  11.0\n",
            "sum_error at  23 iteration is  10.0\n",
            "sum_error at  24 iteration is  4.0\n",
            "sum_error at  25 iteration is  4.0\n",
            "sum_error at  26 iteration is  12.0\n",
            "sum_error at  27 iteration is  9.0\n",
            "sum_error at  28 iteration is  4.0\n",
            "sum_error at  29 iteration is  9.0\n",
            "sum_error at  30 iteration is  6.0\n",
            "sum_error at  31 iteration is  3.0\n",
            "sum_error at  32 iteration is  9.0\n",
            "sum_error at  33 iteration is  "
          ]
        },
        {
          "output_type": "stream",
          "name": "stderr",
          "text": [
            "/usr/local/lib/python3.7/dist-packages/ipykernel_launcher.py:6: RuntimeWarning: overflow encountered in exp\n",
            "  \n"
          ]
        },
        {
          "output_type": "stream",
          "name": "stdout",
          "text": [
            "6.0\n",
            "sum_error at  34 iteration is  9.0\n",
            "sum_error at  35 iteration is  8.0\n",
            "sum_error at  36 iteration is  9.0\n",
            "sum_error at  37 iteration is  10.0\n",
            "sum_error at  38 iteration is  10.0\n",
            "sum_error at  39 iteration is  5.0\n",
            "sum_error at  40 iteration is  12.0\n",
            "sum_error at  41 iteration is  10.0\n",
            "sum_error at  42 iteration is  8.0\n",
            "sum_error at  43 iteration is  9.0\n",
            "sum_error at  44 iteration is  12.0\n",
            "sum_error at  45 iteration is  9.0\n",
            "sum_error at  46 iteration is  10.0\n",
            "sum_error at  47 iteration is  9.0\n",
            "sum_error at  48 iteration is  5.0\n",
            "sum_error at  49 iteration is  9.0\n",
            "sum_error at  50 iteration is  4.0\n"
          ]
        }
      ]
    },
    {
      "cell_type": "markdown",
      "metadata": {
        "id": "31BQ2vMFphF6"
      },
      "source": [
        "### **Your Answer:**"
      ]
    },
    {
      "cell_type": "markdown",
      "metadata": {
        "id": "SGwYMQh5veK-"
      },
      "source": [
        "\n",
        "\n",
        "\n",
        "\n",
        "\n",
        "## Q2: Support Vector Machine (50pt)\n",
        "\n",
        "\n",
        "---\n",
        "\n",
        "### 1. Data preparation for training and testing (5pt)\n",
        "Remember in SVM we move the interception out and define the class label is $\\pm1$. Prepare your matrix $\\mathbf{X}$ and your output label $\\mathbf{y}$ for the training data. Don't forget to do the same preparation for the testing data. \n",
        "\n",
        "Can you impose the hard margin classifier for this problem? Why or why not?\n"
      ]
    },
    {
      "cell_type": "code",
      "metadata": {
        "id": "qZkgjb2Gy4Uh",
        "colab": {
          "base_uri": "https://localhost:8080/"
        },
        "outputId": "8ef8b3c8-2830-41f3-f35d-f1e5e08a2aa1"
      },
      "source": [
        " #@title Q2.1 your code starts here\n",
        "\n",
        "Xtr =  train_X.reshape(60000, 28*28)\n",
        "#Rechaning the shape of the matrix to (60000,784)\n",
        "\n",
        "\n",
        "train_y_part          = train_y\n",
        "Ytr                   = ones(train_y_part.size)*-1#Here it gives all '9' as \"1\" and reamining instead as '0' gives '-1'.\n",
        "Ytr[train_y_part==9]=1 # Making all the 9 numbers as '1' in the data set.\n",
        "print(Ytr)\n",
        "\n",
        "\n",
        "print('Xtr: ' + str(Xtr.shape))\n",
        "print('Ytr: ' + str(Ytr.shape))"
      ],
      "execution_count": 41,
      "outputs": [
        {
          "output_type": "stream",
          "name": "stdout",
          "text": [
            "[-1. -1. -1. ... -1. -1. -1.]\n",
            "Xtr: (60000, 784)\n",
            "Ytr: (60000,)\n"
          ]
        }
      ]
    },
    {
      "cell_type": "markdown",
      "metadata": {
        "id": "ulRUTLcDzRHl"
      },
      "source": [
        "\n",
        "\n",
        "---\n",
        "\n",
        "\n",
        "### 2. Soft Margin with Hinge Loss (15pt)\n",
        "Perform the soft margin with hinge loss using stochastic gradient descent method. \n",
        "$$\\boxed{\\min_{\\mathbf{w}\\in \\mathbb{R}^d, w_0\\in \\mathbb{R}} \\lambda\\sum_{i=1}^N \\max\\left\\{0, 1-\\mathbf{y}^{(i)}(\\mathbf{w}^\\top \\mathbf{x}^{(i)}+w_0)\\right\\} +\\frac{1}{2} \\|\\mathbf{w}\\|_2^2 }$$\n",
        "The learning rate is $\\eta_t = \\frac{1}{(1+2t)^2}$ and total iteration number is $100$. The regulation parameter $\\lambda$ is selected as follows, \n",
        "$$ \\lambda\\in \\{10^{-4},10^{-3},10^{-2},10^{-1},1,10,100,1000,10000 \\}$$\n",
        "Report the test error rates for each $\\lambda$ and find the best parameter $\\lambda$. \n",
        "You might need to restart the training with better initial conditions. \n"
      ]
    },
    {
      "cell_type": "code",
      "metadata": {
        "id": "l2cxjlVZ3HK4",
        "colab": {
          "base_uri": "https://localhost:8080/"
        },
        "outputId": "5457a80a-7d69-48a9-c968-9ae57d1537a4"
      },
      "source": [
        " #@title Q2.2 your code starts here\n",
        "def predict(x, w, w0):\n",
        "\tactivation = w.dot(x)+w0\n",
        "\n",
        "\treturn 1 if activation >= 0.0 else -1\n",
        "\n",
        "#Loss code.\n",
        "def LOSS_f(X,y,w,w0,lambda_param):\n",
        "   N,d = X.shape\n",
        "   LOSS = 1/2 * lambda_param * norm(w)**2\n",
        "   for i in range(N):\n",
        "     condition = 1 - y[i] * (w.dot(X[i,:])+w0)\n",
        "     LOSS = LOSS + max(condition, 0)\n",
        "   return LOSS  \n",
        "#Comdition we need to use for getting the erorr rate and best lambda value.\n",
        "def train_weights(X, y, learning_rate_span,lambda_param, n_iter):\n",
        "  N,d = X.shape\n",
        "  w   = ones(28*28)*(-1)\n",
        "  w[1] = 2\n",
        "  w0  = 2\n",
        "  for iter in range(n_iter):\n",
        "    learning_rate = learning_rate_span[iter]\n",
        "    arr = np.arange(N)\n",
        "    random.shuffle(arr)\n",
        "    for i in arr[0:100]:# we using random 100 values from the data set.\n",
        "          condition = y[i] * (w.dot(X[i,:])+w0) >= 1#this the condition we used to solve the Loss.\n",
        "          if condition:\n",
        "            w = w - learning_rate *  w\n",
        "\n",
        "          else:\n",
        "            w  = w - learning_rate * (w - lambda_param *y[i] * X[i,:] )\n",
        "            w0 = w0 - learning_rate * ( -lambda_param * y[i] ) \n",
        "    #print(iter)\n",
        "  return w, w0 \n",
        "\n",
        "\n",
        "n_iter = 100\n",
        "n_span = arange(n_iter)\n",
        "l_rate_span = 1/((1+ n_span)**2) \n",
        "Losses = []\n",
        "least_loss = 10000000 \n",
        "best_lambda = 0\n",
        "for lambda_param in [0.0001, 0.001, 0.01, 0.1, 1, 10, 100, 1000, 10000]: # Using the given lambda values.\n",
        "  w, w0 = train_weights(Xtr, Ytr, l_rate_span, lambda_param, n_iter) \n",
        "  current_loss = LOSS_f(Xtr, Ytr, w, w0, lambda_param)\n",
        "  Losses.append(current_loss)#adding losses with the current losses\n",
        "  if current_loss<least_loss:\n",
        "    least_loss = current_loss#Gives the least values out of 100 values after iternation.\n",
        "    best_lambda = lambda_param#Gives the best lambda value.\n",
        "print(\"Least loss value is:\",least_loss)\n",
        "print(\"Best_lambda value is:\",best_lambda)\n",
        "#Least value changes every time.\n",
        "#we used 100 values and labdma value is '0.001', which the best value and least eroor rate '10168.69089916671.\n",
        "# when chaning the value the error rate and lambda value is increasins, when we take more 100 values from the dataset and it decrease when it is below 100 values."
      ],
      "execution_count": 51,
      "outputs": [
        {
          "output_type": "stream",
          "name": "stdout",
          "text": [
            "Least loss value is: 11259.251218582258\n",
            "Best_lambda value is: 0.001\n"
          ]
        }
      ]
    },
    {
      "cell_type": "markdown",
      "metadata": {
        "id": "Y0y8ouw8IPOY"
      },
      "source": [
        "\n",
        "\n",
        "---\n",
        "\n",
        "\n",
        "### 3. Prepare for soft margin with log loss (10pt)\n",
        "Please compute the following two gradient:\n",
        "$$ \\nabla_\\mathbf{w} \\log\\left(1+e^{-y^{(i)}(\\mathbf{w}^\\top\\mathbf{x}^{(i)}+w_0 )}\\right)= $$\n",
        "\n",
        "$$ \\nabla_{w_0}\\log\\left(1+e^{-y^{(i)}(\\mathbf{w}^\\top\\mathbf{x}^{(i)}+w_0 )}\\right)=$$"
      ]
    },
    {
      "cell_type": "markdown",
      "metadata": {
        "id": "9Qt_c9mGwU1T"
      },
      "source": [
        "\n",
        "### **Your Answer:**![WhatsApp Image 2021-10-29 at 9.48.59 AM.jpeg](data:image/jpeg;base64,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)"
      ]
    },
    {
      "cell_type": "markdown",
      "metadata": {
        "id": "ewDvguQH9XS-"
      },
      "source": [
        "\n",
        "\n",
        "---\n",
        "\n",
        "\n",
        "### 4. Soft Margin with Log Loss (20pt)\n",
        "Perform the soft margin with log loss using stochastic gradient descent method.\n",
        "$$\\boxed{\\min_{\\mathbf{w}\\in \\mathbb{R}^d, w_0\\in\\mathbb{R}}  \\lambda \\sum_{i=1}^N\\log\\left(1+e^{-y^{(i)}(\\mathbf{w}^\\top\\mathbf{x}^{(i)}+w_0 )}\\right)  +\\frac{1}{2}\\|\\mathbf{w}\\|_2^2 } $$\n",
        "Similarly, the learning rate is $\\eta_t = \\frac{1}{(1+2t)^2}$ and total iteration number is $100$. The regulation parameter $\\lambda$ is selected as follows, \n",
        "$$ \\lambda\\in \\{10^{-4},10^{-3},10^{-2},10^{-1},1,10,100,1000,10000 \\}$$\n",
        "Report the test error rates for each $\\lambda$ and find the best parameter $\\lambda$. \n",
        "You might need to restart the training with better initial conditions. \n"
      ]
    },
    {
      "cell_type": "code",
      "metadata": {
        "id": "6GzE4I64Mdqp"
      },
      "source": [
        " #@title Q2.4 your code starts here\n"
      ],
      "execution_count": 43,
      "outputs": []
    },
    {
      "cell_type": "markdown",
      "metadata": {
        "id": "iQ9_jl56Mf1_"
      },
      "source": [
        "### **Your Answer:**"
      ]
    },
    {
      "cell_type": "markdown",
      "metadata": {
        "id": "NIXStFDeAPPh"
      },
      "source": [
        "\n",
        "---\n",
        "\n",
        "\n",
        "### 5. Optional problem: try the kernel trick \n",
        "You can try to use the kernel trick with various different $\\sigma^2$ and $\\lambda$. What is your difficulty and your findings here? "
      ]
    },
    {
      "cell_type": "markdown",
      "metadata": {
        "id": "KuOQuIqbA5gE"
      },
      "source": [
        "### **Your Answer:**"
      ]
    },
    {
      "cell_type": "markdown",
      "metadata": {
        "id": "fYrdJc1pJ8g3"
      },
      "source": [
        "\n",
        "\n",
        "\n",
        "\n",
        "## Q3: $k$-NN on Iris data (30pt)\n",
        "\n",
        "\n",
        "---\n",
        "\n",
        "This data sets consists of 3 different types of irises’ (Setosa, Versicolour, and Virginica) petal and sepal length, stored in a $150\\times4$ matrices.\n",
        "\n",
        "The rows being the samples and the columns being: Sepal Length, Sepal Width, Petal Length and Petal Width.\n",
        "\n",
        "\n"
      ]
    },
    {
      "cell_type": "code",
      "metadata": {
        "colab": {
          "base_uri": "https://localhost:8080/"
        },
        "id": "uiHks7wWLaCt",
        "outputId": "d9656675-9af6-405a-ed5d-f3993ca072d3"
      },
      "source": [
        "# you are not allowed to use other package and modules \n",
        "from sklearn.datasets import load_iris\n",
        "from sklearn.model_selection import train_test_split\n",
        "\n",
        "iris = load_iris()\n",
        "X = iris.data\n",
        "y = iris.target\n",
        "\n",
        "# Split in training and testing set\n",
        "X_train, X_test, y_train, y_test = train_test_split(X, y, test_size=0.6, stratify=y)\n",
        "\n",
        "print(X_train.shape)\n",
        "print(X_test.shape)"
      ],
      "execution_count": 44,
      "outputs": [
        {
          "output_type": "stream",
          "name": "stdout",
          "text": [
            "(60, 4)\n",
            "(90, 4)\n"
          ]
        }
      ]
    },
    {
      "cell_type": "markdown",
      "metadata": {
        "id": "XUVQkjRdMFhD"
      },
      "source": [
        "## 1. Use 5-fold cross validation to find optimal $k$ (20pt)\n",
        "Here we only use the training dataset, `X_train` and `y_train`. We will test $k$ range from 1 to 21. For each $k$, we will use 5-fold cross validation to estimate the average misclassification rate. Please plot the average misclassification rate verse $k$ and find the optimal $k$. "
      ]
    },
    {
      "cell_type": "code",
      "metadata": {
        "colab": {
          "base_uri": "https://localhost:8080/",
          "height": 645
        },
        "id": "73AEUTrUKMAU",
        "outputId": "bdfe3479-db3a-4eaa-c185-df19db630c10"
      },
      "source": [
        "# my KNN implementation\n",
        "# This the code from ur class note and started editing this.\n",
        "def myknn_predict(k, X_train, y_train):\n",
        "  labelEst = np.ones(X_train.shape[0])\n",
        "  for i, x in enumerate(X_train):\n",
        "    dist            = norm(X_train - x, axis=1)#2norm\n",
        "    dist_sort_index = argsort(dist)\n",
        "    neigh_labels    = y_train[dist_sort_index[0:k]]\n",
        "    labelEst[i]     = argmax(bincount(neigh_labels))\n",
        "  return labelEst\n",
        " #Y_train \n",
        "ks         = [1,2,3,4,5,6,7,8,9,10,11,12,13,14,15,16,17,18,19,20,21]#1,21 values \n",
        "scores =[]\n",
        "train_errs=[]\n",
        "CV = 5 #five cross-validation \n",
        "N_train    = y_train.shape[0]\n",
        "batch      = N_train/CV\n",
        "for k in ks:\n",
        "  y_train_predicted = myknn_predict(k, X_train, y_train)\n",
        "  train_errs.append(norm(y_train_predicted - y_train,0)/batch)#2norm/batch\n",
        "  scores.append(mean(train_errs))#Gives the mean value of the test_err.\n",
        "print(\"train_errs are:\", train_errs)# train error values for y train set\n",
        "print(\"scores are:\", scores)\n",
        "\n",
        "#Graph with KS and score just crossing checking with the missclassification rate.\n",
        "plt.figure()\n",
        "plt.plot(ks, scores , 'b-', label='train')\n",
        "plt.legend()\n",
        "plt.xlabel('k')\n",
        "plt.ylabel('Scores')\n",
        "plt.show()\n",
        "\n",
        "MSE = [1-x for x in train_errs]#Misclassification rate.\n",
        "print(MSE)\n",
        "best_k = ks[MSE.index(min(MSE))]\n",
        "print(\"Best value of k:\",best_k)# gives you the best value of the \n",
        "\n",
        "plt.figure()\n",
        "plt.plot(ks, MSE , 'b-', label='train')\n",
        "plt.legend()\n",
        "plt.xlabel('k')\n",
        "plt.ylabel('misclassification rate')\n",
        "plt.show()\n",
        "\n",
        "#Gives plot the MSE but the graphs change because the error_rate is not costant every time if the error rate change then the graphs also according to that.\n",
        "\n",
        "# Set up the hyperparameters\n",
        "\n",
        "y_train_predicted = myknn_predict(k, X_train, y_train)\n",
        "print('KNN accuracy on test set of {} points:',(1-norm(y_train_predicted - y_train, 0)/X_train.shape[0]))\n",
        "plt.show((1-norm(y_train_predicted - y_train, 0)/X_train.shape[0]))\n",
        "\n"
      ],
      "execution_count": 49,
      "outputs": [
        {
          "output_type": "stream",
          "name": "stdout",
          "text": [
            "train_errs are: [0.0, 0.25, 0.16666666666666666, 0.25, 0.3333333333333333, 0.3333333333333333, 0.16666666666666666, 0.3333333333333333, 0.3333333333333333, 0.3333333333333333, 0.3333333333333333, 0.3333333333333333, 0.3333333333333333, 0.25, 0.25, 0.3333333333333333, 0.4166666666666667, 0.4166666666666667, 0.5, 0.5, 0.5]\n",
            "scores are: [0.0, 0.125, 0.13888888888888887, 0.16666666666666666, 0.2, 0.2222222222222222, 0.21428571428571427, 0.22916666666666663, 0.24074074074074073, 0.25, 0.25757575757575757, 0.2638888888888889, 0.2692307692307693, 0.2678571428571429, 0.26666666666666666, 0.2708333333333333, 0.27941176470588236, 0.28703703703703703, 0.29824561403508776, 0.30833333333333335, 0.3174603174603175]\n"
          ]
        },
        {
          "output_type": "display_data",
          "data": {
            "image/png": "[encoded data removed]",
            "text/plain": [
              "<Figure size 432x288 with 1 Axes>"
            ]
          },
          "metadata": {
            "needs_background": "light"
          }
        },
        {
          "output_type": "stream",
          "name": "stdout",
          "text": [
            "[1.0, 0.75, 0.8333333333333334, 0.75, 0.6666666666666667, 0.6666666666666667, 0.8333333333333334, 0.6666666666666667, 0.6666666666666667, 0.6666666666666667, 0.6666666666666667, 0.6666666666666667, 0.6666666666666667, 0.75, 0.75, 0.6666666666666667, 0.5833333333333333, 0.5833333333333333, 0.5, 0.5, 0.5]\n",
            "Best value of k: 19\n"
          ]
        },
        {
          "output_type": "display_data",
          "data": {
            "image/png": "[encoded data removed]",
            "text/plain": [
              "<Figure size 432x288 with 1 Axes>"
            ]
          },
          "metadata": {
            "needs_background": "light"
          }
        },
        {
          "output_type": "stream",
          "name": "stdout",
          "text": [
            "KNN accuracy on test set of {} points: 0.9\n"
          ]
        }
      ]
    },
    {
      "cell_type": "markdown",
      "metadata": {
        "id": "Hlx7Yin3NowQ"
      },
      "source": [
        "## 2. Use optimal $k$ to predict in the test dataset (10pt)\n",
        "Now we have the optimal $k$. We will apply the optimal $k$-NN on the test dataset and please estimate the misclassification rate in the test dataset. "
      ]
    },
    {
      "cell_type": "code",
      "metadata": {
        "id": "EtgVnGYXOmOE",
        "colab": {
          "base_uri": "https://localhost:8080/"
        },
        "outputId": "d5bd5837-a0a5-4a8d-abf6-bce612239450"
      },
      "source": [
        " #@title Q3.2 your code starts here\n",
        " # This the code from ur class note and started editing this.\n",
        "def myknn_predict_prob(k, X_train, y_train):\n",
        "  labelEst_prob = np.zeros(X_train.shape[0])\n",
        "  for i, x in enumerate(X_train):\n",
        "    dist            = norm(X_train - x, axis=1)\n",
        "    dist_sort_index = argsort(dist)\n",
        "    neigh_labels    = y_train[dist_sort_index[0:k]]\n",
        "    labelEst_prob[i]     = sum(neigh_labels == y_train)/k\n",
        "  return labelEst_prob\n",
        "k=18 # As, i feel this the best \"k\" value.\n",
        "train_errs = []\n",
        "test_errs  = []\n",
        "N_train    = y_train.shape[0]\n",
        "y_train_predicted = myknn_predict(k, X_train, y_train)\n",
        "train_errs.append(norm(y_train_predicted - y_train,0)/N_train)\n",
        "print(\"train_errs is:\", train_errs)# Missclaffication error.\n",
        "# every time K value change and even the error_rate change because error_rate is like noise in the graph.\n",
        "# Even K changes due to range uis from(1-21).\n"
      ],
      "execution_count": 53,
      "outputs": [
        {
          "output_type": "stream",
          "name": "stdout",
          "text": [
            "train_errs is: [0.08333333333333333]\n"
          ]
        }
      ]
    }
  ]
}